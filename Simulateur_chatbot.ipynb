{
 "cells": [
  {
   "cell_type": "markdown",
   "metadata": {},
   "source": [
    "# <center> Simulateur de chatbot</center>"
   ]
  },
  {
   "cell_type": "code",
   "execution_count": 1,
   "metadata": {
    "collapsed": false
   },
   "outputs": [],
   "source": [
    "%matplotlib inline\n",
    "import time, sys, json\n",
    "import requests\n",
    "import matplotlib\n",
    "import matplotlib.pyplot as plt"
   ]
  },
  {
   "cell_type": "code",
   "execution_count": 2,
   "metadata": {
    "collapsed": true
   },
   "outputs": [],
   "source": [
    "#url = \"http://127.0.0.1:5000/\"\n",
    "url = \"\"\n",
    "id = ''"
   ]
  },
  {
   "cell_type": "markdown",
   "metadata": {},
   "source": [
    "### Tests messages : "
   ]
  },
  {
   "cell_type": "code",
   "execution_count": 9,
   "metadata": {
    "collapsed": false
   },
   "outputs": [
    {
     "data": {
      "text/plain": [
       "'Requete envoyee'"
      ]
     },
     "execution_count": 9,
     "metadata": {},
     "output_type": "execute_result"
    }
   ],
   "source": [
    "texte = \"Salut\"\n",
    "data = generate_message(texte)\n",
    "SendRequest(url,json.dumps(data)) #POST"
   ]
  },
  {
   "cell_type": "code",
   "execution_count": 30,
   "metadata": {
    "collapsed": false
   },
   "outputs": [
    {
     "name": "stdout",
     "output_type": "stream",
     "text": [
      "nothing\n"
     ]
    },
    {
     "data": {
      "text/plain": [
       "True"
      ]
     },
     "execution_count": 30,
     "metadata": {},
     "output_type": "execute_result"
    }
   ],
   "source": [
    "longitude = 7.7306702955462\n",
    "latitude = 44.815372070653\n",
    "data = generate_geoloc(longitude,latitude,id)\n",
    "SendRequest(url,json.dumps(data)) #POST"
   ]
  },
  {
   "cell_type": "code",
   "execution_count": null,
   "metadata": {
    "collapsed": true
   },
   "outputs": [],
   "source": [
    "payload = \"Contact\"\n",
    "title = \"Nous contacter\"\n",
    "data = generate_postback(payload,title,id)\n",
    "SendRequest(url,json.dumps(data)) #POST"
   ]
  },
  {
   "cell_type": "markdown",
   "metadata": {},
   "source": [
    "### Tests GET :"
   ]
  },
  {
   "cell_type": "code",
   "execution_count": 28,
   "metadata": {
    "collapsed": false
   },
   "outputs": [
    {
     "name": "stdout",
     "output_type": "stream",
     "text": [
      "Wrong Verify Token\n"
     ]
    },
    {
     "data": {
      "text/plain": [
       "True"
      ]
     },
     "execution_count": 28,
     "metadata": {},
     "output_type": "execute_result"
    }
   ],
   "source": [
    "SendRequest(url) #GET"
   ]
  },
  {
   "cell_type": "markdown",
   "metadata": {},
   "source": [
    "### Performances :"
   ]
  },
  {
   "cell_type": "code",
   "execution_count": 61,
   "metadata": {
    "collapsed": false
   },
   "outputs": [
    {
     "name": "stdout",
     "output_type": "stream",
     "text": [
      "15 requetes sur 15 [0.0007854999999999872, 0.0006294333333333253, 0.0006143166666666626, 0.0005300999999999927, 0.0006609833333333389, 0.0005059999999999991, 0.0006683999999999912, 0.0005510166666666667, 0.0005908666666666562, 0.0005767833333333232, 0.0005893166666666616, 0.0006009333333333385, 0.0004921166666666643, 0.000670833333333339, 0.000697650000000009]\n"
     ]
    }
   ],
   "source": [
    "liste_time = []\n",
    "nombre_essais = 15\n",
    "for i in range(nombre_essais):\n",
    "    t0 = time.clock()\n",
    "    texte = \"magasin\"\n",
    "    data = generate_message(texte,id)\n",
    "    SendRequest(url,json.dumps(data)) #POST\n",
    "    time_process = (time.clock() - t0)/60.\n",
    "    liste_time.append(time_process)\n",
    "    sys.stdout.write(\"\\r%i requetes sur %i \" % (i+1,nombre_essais))\n",
    "    sys.stdout.flush()\n",
    "print(liste_time)"
   ]
  },
  {
   "cell_type": "code",
   "execution_count": 62,
   "metadata": {
    "collapsed": false
   },
   "outputs": [
    {
     "data": {
      "text/plain": [
       "<matplotlib.text.Text at 0x11a1e8410>"
      ]
     },
     "execution_count": 62,
     "metadata": {},
     "output_type": "execute_result"
    },
    {
     "data": {
      "image/png": "[encoded data removed]",
      "text/plain": [
       "<matplotlib.figure.Figure at 0x119d5f690>"
      ]
     },
     "metadata": {},
     "output_type": "display_data"
    }
   ],
   "source": [
    "plt.plot([i for i in range(len(liste_time))],liste_time, c = \"blue\")\n",
    "#plt.scatter([i for i in range(len(liste_time))],liste_time, c = \"blue\") # Sous forme de points\n",
    "plt.xlabel('Tentatives')\n",
    "plt.ylabel('Temps de reponse (sec)')\n",
    "plt.title('Evolution du temps de reponse en fonction des tentatives')"
   ]
  },
  {
   "cell_type": "markdown",
   "metadata": {},
   "source": [
    "### FONCTIONS :"
   ]
  },
  {
   "cell_type": "code",
   "execution_count": 4,
   "metadata": {
    "collapsed": false
   },
   "outputs": [],
   "source": [
    "def generate_message(texte,id):\n",
    "    data_message = {'object': 'page', 'entry': [{'time': 1514581145313, 'id': id, 'messaging': [{'recipient': {'id': '1437816462930392'}, 'timestamp': 1514581144420, 'sender': {'id': id}, 'message': {'text': texte, 'seq': 343650, 'mid': 'mid.$cAAUbr_P_fdfgdce1Vd7ZFgpBKQlMM-0'}}]}]}\n",
    "    return data_message\n",
    "\n",
    "def generate_postback(payload,title,id):\n",
    "    data_postback = {'object': 'page', 'entry': [{'time': 1514581270208, 'id': id, 'messaging': [{'postback': {'payload': payload, 'title': title}, 'timestamp': 1514581270208, 'sender': {'id': id}, 'recipient': {'id': id}}]}]}\n",
    "    return data_postback\n",
    "\n",
    "def generate_geoloc(longitude,latitude,id):\n",
    "    url = \"https://l.facebook.com/l.php?u=https%3A%2F%2Fwww.bing.com%2Fmaps%2Fdaspx%3Fv%3D2%26pc%3DFACEBK%26mid%3D8100%26where1%3D44.815372070653%252C%2B6.1906702955462%26FORM%3DFBKPL1%26mkt%3Den-US&h=ATObpkzxuBlS7IUf5TAw000Ya9uq9uDoxyNsWT7BLOruwILEIqDF6JYc8z-2yXAFKpuD3LfwVnwFEr3RLI3ZlWdBJF6Xm3Hpjwy1EZqLqw2DPkxykw&s=1&enc=AZNHAyu0wJIaJYjoWYcMlv3Nf5HAA9TgmJ5j5-hJv0FcByeFoVs9_ocEE5ZZ41hvFwpZ2BIXbdTZmfayA_Esylwp\"\n",
    "    title = \"Florian's Location\"\n",
    "    data_geo = {'entry': [{'time': 1514583295664, 'messaging': [{'timestamp': 1514583294921, 'recipient': {'id': id}, 'sender': {'id': id}, 'message': {'seq': 343703, 'mid': 'mid.$cAAUbr_P_rem1XhLyVgpDL-zSvMV', 'attachments': [{'url': url, 'type': 'location', 'title': title, 'payload': {'coordinates': {'long': longitude, 'lat': latitude}}}]}}], 'id': id}], 'object': 'page'}\n",
    "    return data_geo\n",
    "def generate_pouce(id): # Pouce :\n",
    "    url = \"https://scontent-lax3-2.xx.fbcdn.net/v/t39.1997-6/851557_369239266556155_759568595_n.png?_nc_ad=z-m&_nc_cid=0&oh=0ef8de1568b7089f8197a3edf15d8d71&oe=5AC537DC\"\n",
    "    sticker_id = 369239263222822\n",
    "    data ={'entry': [{'id': id, 'messaging': [{'message': {'seq': 343013, 'sticker_id': 369239263222822, 'attachments': [{'type': 'image', 'payload': {'sticker_id': sticker_id, 'url': url}}], 'mid': 'mid.$cAAUbFEzefJNm1YlJT1gpERfyNcs6'}, 'recipient': {'id': id}, 'timestamp': 1514584408399, 'sender': {'id': id}}], 'time': 1514584409176}], 'object': 'page'}\n",
    "    return data\n",
    "def generate_image(id):\n",
    "    url = \"https://scontent-lax3-2.xx.fbcdn.net/v/t34.0-12/26175070_10215465868019290_783007809_n.png?_nc_ad=z-m&_nc_cid=0&oh=0e087ad54erfsdc02b194ce0583433b4b&oe=5A490583\"\n",
    "    data = {'entry': [{'id': id, 'messaging': [{'message': {'seq': 343715, 'attachments': [{'type': 'image', 'payload': {'url': url}}], 'mid': 'mid.$cAAUbr_P_fJNmPKLB1gpEZv8Ybra'}, 'recipient': {'id': id}, 'timestamp': 1514584050663, 'sender': {'id': id}}], 'time': 1514584551482}], 'object': 'page'}\n",
    "    return data\n",
    "def generate_gif():\n",
    "    url = \"\"\n",
    "    data = {}\n",
    "    return data"
   ]
  },
  {
   "cell_type": "code",
   "execution_count": 8,
   "metadata": {
    "collapsed": false
   },
   "outputs": [
    {
     "ename": "IndentationError",
     "evalue": "unexpected indent (<ipython-input-8-cf2dd7cd1af0>, line 23)",
     "output_type": "error",
     "traceback": [
      "\u001b[0;36m  File \u001b[0;32m\"<ipython-input-8-cf2dd7cd1af0>\"\u001b[0;36m, line \u001b[0;32m23\u001b[0m\n\u001b[0;31m    print response.text\u001b[0m\n\u001b[0m    ^\u001b[0m\n\u001b[0;31mIndentationError\u001b[0m\u001b[0;31m:\u001b[0m unexpected indent\n"
     ]
    }
   ],
   "source": [
    "#USER_AGENT = 'Instagram 10.26.0 Android ({android_version}/{android_release}; 320dpi; 720x1280; {manufacturer}; {model}; armani; qcom; en_US)'.format(**DEVICE_SETTINTS)\n",
    "LastResponse = None\n",
    "def SendRequest(url, post = None):\n",
    "    s = requests.Session()\n",
    "    #s.headers.update ({'Connection' : 'close',\n",
    "    #                            'Accept' : '*/*',\n",
    "    #                            'Content-type' : 'application/x-www-form-urlencoded; charset=UTF-8',\n",
    "    #                            'Cookie2' : '$Version=1',\n",
    "    #                            'Accept-Language' : 'en-US',\n",
    "    #                            'User-Agent' : USER_AGENT})\n",
    "    if (post != None): # POST\n",
    "        response = s.post(url, data=post)\n",
    "    else: # GET\n",
    "        response = s.get(url)\n",
    "    print response.status_code\n",
    "    if response.status_code == 200:\n",
    "                LastResponse = response\n",
    "                try:\n",
    "                    LastJson = json.loads(response.text)\n",
    "                    # data = json.loads(request.data.decode())\n",
    "                    #print LastJson\n",
    "                except:pass \n",
    "                    print response.text\n",
    "                return \"Requete envoyee\"\n",
    "    else:\n",
    "            print (\"Request return \" + str(response.status_code) + \" error!\")\n",
    "            try: # for debugging\n",
    "                LastResponse = response\n",
    "                LastJson = json.loads(response.text)\n",
    "            except:\n",
    "                print response.text\n",
    "                pass\n",
    "            return False"
   ]
  },
  {
   "cell_type": "markdown",
   "metadata": {},
   "source": [
    "### HASH :"
   ]
  },
  {
   "cell_type": "code",
   "execution_count": 12,
   "metadata": {
    "collapsed": false,
    "scrolled": true
   },
   "outputs": [
    {
     "name": "stdout",
     "output_type": "stream",
     "text": [
      "Entrez votre mot de passe : a\n",
      "Entrez votre login : b\n",
      "<md5 HASH object @ 0x1100fcaf8>\n"
     ]
    }
   ],
   "source": [
    "import hashlib\n",
    "password = raw_input(\"Entrez votre mot de passe : \").strip()\n",
    "username = raw_input(\"Entrez votre login : \").strip()\n",
    "m = hashlib.md5()\n",
    "m.update(username.encode('utf-8') + password.encode('utf-8'))\n",
    "print m.hexdigest()"
   ]
  },
  {
   "cell_type": "code",
   "execution_count": null,
   "metadata": {
    "collapsed": true
   },
   "outputs": [],
   "source": []
  }
 ],
 "metadata": {
  "kernelspec": {
   "display_name": "Python 2",
   "language": "python",
   "name": "python2"
  },
  "language_info": {
   "codemirror_mode": {
    "name": "ipython",
    "version": 2
   },
   "file_extension": ".py",
   "mimetype": "text/x-python",
   "name": "python",
   "nbconvert_exporter": "python",
   "pygments_lexer": "ipython2",
   "version": "2.7.13"
  }
 },
 "nbformat": 4,
 "nbformat_minor": 2
}
